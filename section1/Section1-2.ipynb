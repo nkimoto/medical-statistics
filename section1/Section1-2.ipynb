{
 "cells": [
  {
   "cell_type": "markdown",
   "metadata": {},
   "source": [
    "## 死亡情報以外の疑似生成"
   ]
  },
  {
   "cell_type": "markdown",
   "metadata": {},
   "source": [
    "**加入者情報テーブル**\n",
    "- 個人ID\n",
    "- 性別\n",
    "- 従業員/家族\n",
    "- 誕生年月\n",
    "- 観察開始年月\n",
    "- 観察終了年月\n",
    "- 観察終了事由(死亡)"
   ]
  },
  {
   "cell_type": "code",
   "execution_count": 2,
   "metadata": {},
   "outputs": [],
   "source": [
    "%matplotlib notebook\n",
    "%matplotlib inline\n",
    "import gc\n",
    "import matplotlib.pyplot as plt\n",
    "import numpy as np\n",
    "import pandas as pd\n",
    "# 表示する行の数を設定\n",
    "pd.options.display.max_rows = 10\n",
    "# 表示する列の数を設定\n",
    "pd.options.display.max_columns = 12\n",
    "# matplotlib のフォントを設定\n",
    "plt.rcParams['font.family'] = 'Times New Roman'\n",
    "plt.rcParams['mathtext.fontset'] = 'stix'"
   ]
  },
  {
   "cell_type": "code",
   "execution_count": 3,
   "metadata": {},
   "outputs": [],
   "source": [
    "def ym_to_t(ym):\n",
    "    \"\"\"\n",
    "    ymの月の月央をスカラーに変換する。\n",
    "    \n",
    "    Args:\n",
    "        ym (DateTime): DateTime型の日付\n",
    "    \n",
    "    Returns:\n",
    "        float: スカラー型の日付\n",
    "        \n",
    "    Example:\n",
    "        >>> ym_to_t(\"2010/06\")\n",
    "        2010.4583333333333\n",
    "    \"\"\"\n",
    "    y = int(ym[:4])\n",
    "    m = int(ym[5:])\n",
    "    return y + m"
   ]
  },
  {
   "cell_type": "code",
   "execution_count": 4,
   "metadata": {},
   "outputs": [],
   "source": [
    "def t_to_ym(t):\n",
    "    \"\"\"\n",
    "    スカラーtをymに変換する。\n",
    "\n",
    "    \"\"\"\n",
    "    y = int(t)\n",
    "    m = int((t - y) * 12) + 1\n",
    "    m = max(min(m, 12), 1)\n",
    "    # 月部分を2桁表示になるよう、つまり\n",
    "    # \"2010/1\" でなく \"2010/01\" となるよう\n",
    "    # zfill(2) でパディングする。\n",
    "    return str(y) + '/' + str(m).zfill(2)"
   ]
  },
  {
   "cell_type": "code",
   "execution_count": 5,
   "metadata": {},
   "outputs": [],
   "source": [
    "df_birth = pd.read_csv('./ipss_birth.csv')"
   ]
  },
  {
   "cell_type": "code",
   "execution_count": 6,
   "metadata": {},
   "outputs": [
    {
     "data": {
      "text/html": [
       "<div>\n",
       "<style scoped>\n",
       "    .dataframe tbody tr th:only-of-type {\n",
       "        vertical-align: middle;\n",
       "    }\n",
       "\n",
       "    .dataframe tbody tr th {\n",
       "        vertical-align: top;\n",
       "    }\n",
       "\n",
       "    .dataframe thead th {\n",
       "        text-align: right;\n",
       "    }\n",
       "</style>\n",
       "<table border=\"1\" class=\"dataframe\">\n",
       "  <thead>\n",
       "    <tr style=\"text-align: right;\">\n",
       "      <th></th>\n",
       "      <th>year</th>\n",
       "      <th>sex</th>\n",
       "      <th>ratio</th>\n",
       "      <th>cum_ratio</th>\n",
       "    </tr>\n",
       "  </thead>\n",
       "  <tbody>\n",
       "    <tr>\n",
       "      <td>0</td>\n",
       "      <td>1947</td>\n",
       "      <td>f</td>\n",
       "      <td>0.012150</td>\n",
       "      <td>0.012150</td>\n",
       "    </tr>\n",
       "    <tr>\n",
       "      <td>1</td>\n",
       "      <td>1948</td>\n",
       "      <td>f</td>\n",
       "      <td>0.012162</td>\n",
       "      <td>0.024311</td>\n",
       "    </tr>\n",
       "    <tr>\n",
       "      <td>2</td>\n",
       "      <td>1949</td>\n",
       "      <td>f</td>\n",
       "      <td>0.012288</td>\n",
       "      <td>0.036600</td>\n",
       "    </tr>\n",
       "    <tr>\n",
       "      <td>3</td>\n",
       "      <td>1950</td>\n",
       "      <td>f</td>\n",
       "      <td>0.010587</td>\n",
       "      <td>0.047187</td>\n",
       "    </tr>\n",
       "    <tr>\n",
       "      <td>4</td>\n",
       "      <td>1951</td>\n",
       "      <td>f</td>\n",
       "      <td>0.009735</td>\n",
       "      <td>0.056922</td>\n",
       "    </tr>\n",
       "  </tbody>\n",
       "</table>\n",
       "</div>"
      ],
      "text/plain": [
       "   year sex     ratio  cum_ratio\n",
       "0  1947   f  0.012150   0.012150\n",
       "1  1948   f  0.012162   0.024311\n",
       "2  1949   f  0.012288   0.036600\n",
       "3  1950   f  0.010587   0.047187\n",
       "4  1951   f  0.009735   0.056922"
      ]
     },
     "execution_count": 6,
     "metadata": {},
     "output_type": "execute_result"
    }
   ],
   "source": [
    "df_birth.head()"
   ]
  },
  {
   "cell_type": "code",
   "execution_count": 7,
   "metadata": {},
   "outputs": [],
   "source": [
    "start_study_t = 2010 # 分析開始時点 (2010年1月)\n",
    "end_study_t = 2019.999 # 分析終了時点 (2019年12月)\n",
    "# 指数分布のパラメタ\n",
    "# 観察開始期間、観察終了期間を決定する。\n",
    "mu = 10\n",
    "N = 5000 # N 人の加入者を生成する。\n",
    "family_ratio = 0.3 # 全体の内、扶養家族の占める割合"
   ]
  },
  {
   "cell_type": "code",
   "execution_count": 12,
   "metadata": {},
   "outputs": [
    {
     "data": {
      "text/plain": [
       "year              1947\n",
       "sex                  m\n",
       "ratio        0.0128516\n",
       "cum_ratio     0.498796\n",
       "Name: 70, dtype: object"
      ]
     },
     "execution_count": 12,
     "metadata": {},
     "output_type": "execute_result"
    }
   ],
   "source": [
    " df_birth[df_birth[\"cum_ratio\"] > np.random.rand()].iloc[0]"
   ]
  },
  {
   "cell_type": "code",
   "execution_count": 31,
   "metadata": {},
   "outputs": [],
   "source": [
    "i = 0\n",
    "rs = 0\n",
    "np.random.seed(rs)\n",
    "random_nums = np.random.rand(10)\n",
    "df_info = pd.DataFrame()\n",
    "\n",
    "while len(df_info) < N:\n",
    "    ss = df_birth[df_birth[\"cum_ratio\"] > np.random.rand()].iloc[0]\n",
    "    rs += 1\n",
    "    np.random.seed(rs)\n",
    "    sex = ss.sex\n",
    "    by = ss.year\n",
    "    bt = by + np.random.rand()\n",
    "    rs += 1\n",
    "    np.random.seed(rs)\n",
    "    bym = t_to_ym(bt)\n",
    "    # なぜ - mu なのか。\n",
    "    start_t = start_study_t - mu + np.random.exponential(mu)\n",
    "    rs += 1\n",
    "    np.random.seed(rs)\n",
    "    end_t = start_t + np.random.exponential(mu)\n",
    "    rs += 1\n",
    "    np.random.seed(rs)\n",
    "    if (start_t > end_study_t) | (end_t < start_study_t):\n",
    "        pass\n",
    "    else:\n",
    "        # iid: 加入者ID\n",
    "        cols = ['iid', 'sex', 'family', 'birth_ym',\n",
    "                'start_obs_ym', 'end_obs_ym']\n",
    "        df_exposure = pd.DataFrame(np.zeros(len(cols)).reshape(1, len(cols)),\n",
    "                                   columns=cols)\n",
    "        # 本人: 1, 家族: 2\n",
    "        family = 2 - (np.random.rand() > family_ratio)\n",
    "        rs += 1\n",
    "        np.random.seed(rs)\n",
    "        df_exposure[cols] = [\n",
    "            'i' + str(i).zfill(6), sex, family, bym,\n",
    "            t_to_ym(start_t), t_to_ym(end_t)\n",
    "        ]\n",
    "        df_info = pd.concat([df_info, df_exposure], axis=0)\n",
    "    i += 1\n",
    "df_info = df_info.reset_index()\n",
    "del df_info['index']\n"
   ]
  },
  {
   "cell_type": "code",
   "execution_count": 33,
   "metadata": {},
   "outputs": [
    {
     "data": {
      "text/html": [
       "<div>\n",
       "<style scoped>\n",
       "    .dataframe tbody tr th:only-of-type {\n",
       "        vertical-align: middle;\n",
       "    }\n",
       "\n",
       "    .dataframe tbody tr th {\n",
       "        vertical-align: top;\n",
       "    }\n",
       "\n",
       "    .dataframe thead th {\n",
       "        text-align: right;\n",
       "    }\n",
       "</style>\n",
       "<table border=\"1\" class=\"dataframe\">\n",
       "  <thead>\n",
       "    <tr style=\"text-align: right;\">\n",
       "      <th></th>\n",
       "      <th>iid</th>\n",
       "      <th>sex</th>\n",
       "      <th>family</th>\n",
       "      <th>birth_ym</th>\n",
       "      <th>start_obs_ym</th>\n",
       "      <th>end_obs_ym</th>\n",
       "    </tr>\n",
       "  </thead>\n",
       "  <tbody>\n",
       "    <tr>\n",
       "      <td>0</td>\n",
       "      <td>i000000</td>\n",
       "      <td>m</td>\n",
       "      <td>1.0</td>\n",
       "      <td>1980/06</td>\n",
       "      <td>2005/09</td>\n",
       "      <td>2013/09</td>\n",
       "    </tr>\n",
       "    <tr>\n",
       "      <td>1</td>\n",
       "      <td>i000001</td>\n",
       "      <td>f</td>\n",
       "      <td>2.0</td>\n",
       "      <td>1972/11</td>\n",
       "      <td>2000/10</td>\n",
       "      <td>2021/06</td>\n",
       "    </tr>\n",
       "    <tr>\n",
       "      <td>2</td>\n",
       "      <td>i000002</td>\n",
       "      <td>m</td>\n",
       "      <td>1.0</td>\n",
       "      <td>1978/03</td>\n",
       "      <td>2001/09</td>\n",
       "      <td>2016/09</td>\n",
       "    </tr>\n",
       "    <tr>\n",
       "      <td>3</td>\n",
       "      <td>i000003</td>\n",
       "      <td>m</td>\n",
       "      <td>2.0</td>\n",
       "      <td>1989/03</td>\n",
       "      <td>2003/06</td>\n",
       "      <td>2013/12</td>\n",
       "    </tr>\n",
       "    <tr>\n",
       "      <td>4</td>\n",
       "      <td>i000006</td>\n",
       "      <td>m</td>\n",
       "      <td>1.0</td>\n",
       "      <td>1973/11</td>\n",
       "      <td>2010/04</td>\n",
       "      <td>2013/09</td>\n",
       "    </tr>\n",
       "    <tr>\n",
       "      <td>...</td>\n",
       "      <td>...</td>\n",
       "      <td>...</td>\n",
       "      <td>...</td>\n",
       "      <td>...</td>\n",
       "      <td>...</td>\n",
       "      <td>...</td>\n",
       "    </tr>\n",
       "    <tr>\n",
       "      <td>4995</td>\n",
       "      <td>i008255</td>\n",
       "      <td>m</td>\n",
       "      <td>1.0</td>\n",
       "      <td>1988/12</td>\n",
       "      <td>2003/05</td>\n",
       "      <td>2013/07</td>\n",
       "    </tr>\n",
       "    <tr>\n",
       "      <td>4996</td>\n",
       "      <td>i008259</td>\n",
       "      <td>m</td>\n",
       "      <td>1.0</td>\n",
       "      <td>2012/11</td>\n",
       "      <td>2004/10</td>\n",
       "      <td>2015/02</td>\n",
       "    </tr>\n",
       "    <tr>\n",
       "      <td>4997</td>\n",
       "      <td>i008260</td>\n",
       "      <td>m</td>\n",
       "      <td>1.0</td>\n",
       "      <td>1987/02</td>\n",
       "      <td>2019/06</td>\n",
       "      <td>2026/01</td>\n",
       "    </tr>\n",
       "    <tr>\n",
       "      <td>4998</td>\n",
       "      <td>i008263</td>\n",
       "      <td>m</td>\n",
       "      <td>1.0</td>\n",
       "      <td>1980/08</td>\n",
       "      <td>2007/09</td>\n",
       "      <td>2016/11</td>\n",
       "    </tr>\n",
       "    <tr>\n",
       "      <td>4999</td>\n",
       "      <td>i008264</td>\n",
       "      <td>m</td>\n",
       "      <td>2.0</td>\n",
       "      <td>1952/06</td>\n",
       "      <td>2005/02</td>\n",
       "      <td>2010/10</td>\n",
       "    </tr>\n",
       "  </tbody>\n",
       "</table>\n",
       "<p>5000 rows × 6 columns</p>\n",
       "</div>"
      ],
      "text/plain": [
       "          iid sex  family birth_ym start_obs_ym end_obs_ym\n",
       "0     i000000   m     1.0  1980/06      2005/09    2013/09\n",
       "1     i000001   f     2.0  1972/11      2000/10    2021/06\n",
       "2     i000002   m     1.0  1978/03      2001/09    2016/09\n",
       "3     i000003   m     2.0  1989/03      2003/06    2013/12\n",
       "4     i000006   m     1.0  1973/11      2010/04    2013/09\n",
       "...       ...  ..     ...      ...          ...        ...\n",
       "4995  i008255   m     1.0  1988/12      2003/05    2013/07\n",
       "4996  i008259   m     1.0  2012/11      2004/10    2015/02\n",
       "4997  i008260   m     1.0  1987/02      2019/06    2026/01\n",
       "4998  i008263   m     1.0  1980/08      2007/09    2016/11\n",
       "4999  i008264   m     2.0  1952/06      2005/02    2010/10\n",
       "\n",
       "[5000 rows x 6 columns]"
      ]
     },
     "execution_count": 33,
     "metadata": {},
     "output_type": "execute_result"
    }
   ],
   "source": [
    "df_info"
   ]
  },
  {
   "cell_type": "code",
   "execution_count": 61,
   "metadata": {},
   "outputs": [],
   "source": [
    "df_birth_M = df_birth.loc[df_birth.sex == 'm', ['year', 'ratio']]\n",
    "df_birth_M['ratio'] = df_birth_M.ratio / df_birth_M.ratio.sum()\n",
    "df_info_M = df_info.loc[df_info.sex == 'm', ['birth_ym', 'family']]\n",
    "df_info_M['birth_ym'] = df_info_M.birth_ym.apply(ym_to_t) // 1\n",
    "df_info_M = df_info_M.groupby(['birth_ym']).count()\n",
    "df_info_M = df_info_M / df_info_M.sum()"
   ]
  },
  {
   "cell_type": "code",
   "execution_count": 62,
   "metadata": {},
   "outputs": [
    {
     "data": {
      "text/html": [
       "<div>\n",
       "<style scoped>\n",
       "    .dataframe tbody tr th:only-of-type {\n",
       "        vertical-align: middle;\n",
       "    }\n",
       "\n",
       "    .dataframe tbody tr th {\n",
       "        vertical-align: top;\n",
       "    }\n",
       "\n",
       "    .dataframe thead th {\n",
       "        text-align: right;\n",
       "    }\n",
       "</style>\n",
       "<table border=\"1\" class=\"dataframe\">\n",
       "  <thead>\n",
       "    <tr style=\"text-align: right;\">\n",
       "      <th></th>\n",
       "      <th>family</th>\n",
       "    </tr>\n",
       "    <tr>\n",
       "      <th>birth_ym</th>\n",
       "      <th></th>\n",
       "    </tr>\n",
       "  </thead>\n",
       "  <tbody>\n",
       "    <tr>\n",
       "      <td>1948</td>\n",
       "      <td>0.001162</td>\n",
       "    </tr>\n",
       "    <tr>\n",
       "      <td>1949</td>\n",
       "      <td>0.004648</td>\n",
       "    </tr>\n",
       "    <tr>\n",
       "      <td>1950</td>\n",
       "      <td>0.005809</td>\n",
       "    </tr>\n",
       "    <tr>\n",
       "      <td>1951</td>\n",
       "      <td>0.009295</td>\n",
       "    </tr>\n",
       "    <tr>\n",
       "      <td>1952</td>\n",
       "      <td>0.012393</td>\n",
       "    </tr>\n",
       "    <tr>\n",
       "      <td>...</td>\n",
       "      <td>...</td>\n",
       "    </tr>\n",
       "    <tr>\n",
       "      <td>2024</td>\n",
       "      <td>0.003486</td>\n",
       "    </tr>\n",
       "    <tr>\n",
       "      <td>2025</td>\n",
       "      <td>0.003098</td>\n",
       "    </tr>\n",
       "    <tr>\n",
       "      <td>2026</td>\n",
       "      <td>0.003486</td>\n",
       "    </tr>\n",
       "    <tr>\n",
       "      <td>2027</td>\n",
       "      <td>0.000775</td>\n",
       "    </tr>\n",
       "    <tr>\n",
       "      <td>2028</td>\n",
       "      <td>0.000387</td>\n",
       "    </tr>\n",
       "  </tbody>\n",
       "</table>\n",
       "<p>81 rows × 1 columns</p>\n",
       "</div>"
      ],
      "text/plain": [
       "            family\n",
       "birth_ym          \n",
       "1948      0.001162\n",
       "1949      0.004648\n",
       "1950      0.005809\n",
       "1951      0.009295\n",
       "1952      0.012393\n",
       "...            ...\n",
       "2024      0.003486\n",
       "2025      0.003098\n",
       "2026      0.003486\n",
       "2027      0.000775\n",
       "2028      0.000387\n",
       "\n",
       "[81 rows x 1 columns]"
      ]
     },
     "execution_count": 62,
     "metadata": {},
     "output_type": "execute_result"
    }
   ],
   "source": [
    "df_info_M"
   ]
  },
  {
   "cell_type": "code",
   "execution_count": 63,
   "metadata": {},
   "outputs": [
    {
     "data": {
      "text/plain": [
       "Text(0.5, 1.0, 'Birth Ratio (M)')"
      ]
     },
     "execution_count": 63,
     "metadata": {},
     "output_type": "execute_result"
    },
    {
     "name": "stderr",
     "output_type": "stream",
     "text": [
      "findfont: Font family ['Times New Roman'] not found. Falling back to DejaVu Sans.\n",
      "findfont: Font family ['Times New Roman'] not found. Falling back to DejaVu Sans.\n"
     ]
    },
    {
     "data": {
      "image/png": "[encoded data removed]",
      "text/plain": [
       "<Figure size 432x288 with 1 Axes>"
      ]
     },
     "metadata": {
      "needs_background": "light"
     },
     "output_type": "display_data"
    }
   ],
   "source": [
    "fig = plt.figure()\n",
    "ax = fig.add_subplot(111)\n",
    "ax.plot(df_birth_M.year, df_birth_M.ratio, c='k', label='True Ratio')\n",
    "ax.plot(df_info_M.index, df_info_M.family, c='b',\n",
    "label='Reproducted Ratio', lw=0.5)\n",
    "ax.legend(loc='best')\n",
    "ax.set_title('Birth Ratio (M)', fontsize=15)"
   ]
  },
  {
   "cell_type": "code",
   "execution_count": null,
   "metadata": {},
   "outputs": [],
   "source": []
  }
 ],
 "metadata": {
  "kernelspec": {
   "display_name": "Python 3",
   "language": "python",
   "name": "python3"
  },
  "language_info": {
   "codemirror_mode": {
    "name": "ipython",
    "version": 3
   },
   "file_extension": ".py",
   "mimetype": "text/x-python",
   "name": "python",
   "nbconvert_exporter": "python",
   "pygments_lexer": "ipython3",
   "version": "3.7.4"
  }
 },
 "nbformat": 4,
 "nbformat_minor": 2
}
